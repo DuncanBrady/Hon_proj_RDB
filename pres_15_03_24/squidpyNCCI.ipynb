{
 "cells": [
  {
   "cell_type": "markdown",
   "metadata": {},
   "source": [
    "## Current CCI tools and Literature\n",
    "\n",
    "Within my search for CCI analysis using spatial transcriptomic data, there has been a range of approaches and work. However most of these methods can be classified into one of the following groups \n",
    "\n",
    "  - Statistical Methods\n",
    "  - Unsupervised Learnig\n",
    "  - Supervised learning\n",
    "\n",
    "Majority of these approaches utilise ligand receptor analysis to perform either correlation analysis or other statistical methods.\n",
    "\n",
    "Below is a table of tools I have found and a brief outline of each, this was aggregated from mutliple papers with similar tables and adjusted to only include those that handle CCI.\n",
    "\n",
    "| Package Name | Language | Method Group | Description | publish date |  github  | \n",
    "| ------------ | -------- | ------------ | ----------- | ------------ | -------- |\n",
    "| Graph Convolutional Network For Genes(GCNG) | python | supervised Learning | Utilises a simple GCN network structure to both identify known and predict novel interactions | 2020 | https://github.com/xiaoyeye/GCNG |\n",
    "| stLearn | python | statistical | Creates and interaction score using combination of L-R, clustering and cell diversity | 2020 | https://github.com/BiomedicalMachineLearning/stLearn |\n",
    "| squidPy | python | statistical | Is a re-implementation of the CellPhoneDB L-R permutation analysis |  | -------- |\n",
    "| RECCIPE | -------- | ------------ | ----------- | ------------ | -------- |\n",
    "| CellPhoneDB | -------- | ------------ | ----------- | ------------ | -------- |\n",
    "| ATHENA | -------- | ------------ | ----------- | ------------ | -------- |\n",
    "| scTenifoldX | -------- | ------------ | ----------- | ------------ | -------- |\n",
    "| TraSig | -------- | ------------ | ----------- | ------------ | -------- |\n",
    "| ------------ | -------- | ------------ | ----------- | ------------ | -------- |\n",
    "| ------------ | -------- | ------------ | ----------- | ------------ | -------- |\n",
    "| ------------ | -------- | ------------ | ----------- | ------------ | -------- |\n",
    "| ------------ | -------- | ------------ | ----------- | ------------ | -------- |\n",
    "| ------------ | -------- | ------------ | ----------- | ------------ | -------- |\n",
    "| ------------ | -------- | ------------ | ----------- | ------------ | -------- |"
   ]
  }
 ],
 "metadata": {
  "language_info": {
   "name": "python"
  }
 },
 "nbformat": 4,
 "nbformat_minor": 2
}
