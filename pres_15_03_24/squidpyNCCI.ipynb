{
 "cells": [
  {
   "cell_type": "markdown",
   "metadata": {},
   "source": [
    "## Current CCI tools and Literature\n",
    "\n",
    "Within my search for CCI analysis using spatial transcriptomic data, there has been a range of approaches and work. However most of these methods can be classified into one of the following groups \n",
    "\n",
    "  - Statistical Methods\n",
    "  - Unsupervised Learnig\n",
    "  - Supervised learning\n",
    "\n",
    "Majority of these approaches utilise ligand receptor analysis to perform either correlation analysis or other statistical methods.\n",
    "\n",
    "Below is a table of tools I have found and a brief outline of each, this was aggregated from mutliple papers with similar tables and adjusted to only include those that handle CCI.\n",
    "\n",
    "| Package Name | Language | Method Group | Description | publish date |  github  | \n",
    "| ------------ | -------- | ------------ | ----------- | ------------ | -------- |\n",
    "| Graph Convolutional Network For Genes(GCNG) | python | supervised Learning | Utilises a simple GCN network structure to both identify known and predict novel interactions | 2020 | https://github.com/xiaoyeye/GCNG |\n",
    "| stLearn | python | statistical | Creates and interaction score using combination of L-R, clustering and cell diversity | 2020 | https://github.com/BiomedicalMachineLearning/stLearn |\n",
    "| squidPy | python | statistical | Is a re-implementation of the CellPhoneDB L-R permutation analysis | 2021 | https://github.com/scverse/squidpy |\n",
    "| RECCIPE | python | Regression Analysis | models the dependence of gene expression changes across spots, accounting for heterogenity | 2024 | Not publically available yet |\n",
    "| CellPhoneDB | python | statistical | Uses a repo of known LR interactions to predict(NonSpatial) | 2020 | https://github.com/Teichlab/cellphonedb |\n",
    "| ATHENA | python | unsupervised Learning | Scores cell interaction, clustering to quantify heterogeneity of tumors | 2022 | https://github.com/AI4SCR/ATHENA |\n",
    "| NicheNet | R | statistical | Utilises a similar approach to pagerank through scoring LR interactions, currently requires human or mouse data | 2020 | https://github.com/saeyslab/nichenetr |\n",
    "\n",
    "\n",
    "### Gaps in research\n",
    "\n",
    "Specific applications of Graph Networks within ST data in the context of CCI are somewhat limited with the following being the closest I have found\n",
    " - GCNG \n",
    " - NicheDE\n",
    "\n"
   ]
  }
 ],
 "metadata": {
  "kernelspec": {
   "display_name": ".venv",
   "language": "python",
   "name": "python3"
  },
  "language_info": {
   "name": "python",
   "version": "3.10.12"
  }
 },
 "nbformat": 4,
 "nbformat_minor": 2
}
