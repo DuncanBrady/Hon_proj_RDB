{
 "cells": [
  {
   "cell_type": "markdown",
   "metadata": {},
   "source": [
    "# Pytorch Link prediction example\n",
    "\n",
    "This notebook is a short toy example to gain an understanding on how link prediction inputs and outputs work, This follows along from the tutorial from pytorch geometric.\n",
    "https://colab.research.google.com/drive/1xpzn1Nvai1ygd_P5Yambc_oe4VBPK_ZT?usp=sharing\n",
    "## Imports and Setup"
   ]
  },
  {
   "cell_type": "code",
   "execution_count": 3,
   "metadata": {},
   "outputs": [
    {
     "name": "stdout",
     "output_type": "stream",
     "text": [
      "2.3.0+cu121\n"
     ]
    }
   ],
   "source": [
    "import torch\n",
    "from torch import tensor\n",
    "print(torch.__version__)\n"
   ]
  },
  {
   "cell_type": "code",
   "execution_count": 4,
   "metadata": {},
   "outputs": [
    {
     "name": "stdout",
     "output_type": "stream",
     "text": [
      "Looking in links: https://data.pyg.org/whl/torch-2.3.0+cu121.html\n",
      "Requirement already satisfied: torch-scatter in /home/duncanbrady/honours24/codebase/ST_Honours_2024/.DGL_LinkPred/lib/python3.10/site-packages (2.1.2+pt23cpu)\n",
      "Looking in links: https://data.pyg.org/whl/torch-2.3.0+cu121.html\n",
      "Requirement already satisfied: torch-sparse in /home/duncanbrady/honours24/codebase/ST_Honours_2024/.DGL_LinkPred/lib/python3.10/site-packages (0.6.18+pt23cpu)\n",
      "Requirement already satisfied: scipy in /home/duncanbrady/honours24/codebase/ST_Honours_2024/.DGL_LinkPred/lib/python3.10/site-packages (from torch-sparse) (1.13.0)\n",
      "Requirement already satisfied: numpy<2.3,>=1.22.4 in /home/duncanbrady/honours24/codebase/ST_Honours_2024/.DGL_LinkPred/lib/python3.10/site-packages (from scipy->torch-sparse) (1.26.4)\n",
      "Looking in links: https://data.pyg.org/whl/nightly/torch-2.3.0+cu121.html\n",
      "Requirement already satisfied: pyg-lib in /home/duncanbrady/honours24/codebase/ST_Honours_2024/.DGL_LinkPred/lib/python3.10/site-packages (0.4.0+pt23cpu)\n",
      "Collecting git+https://github.com/pyg-team/pytorch_geometric.git\n",
      "  Cloning https://github.com/pyg-team/pytorch_geometric.git to /tmp/pip-req-build-kd5w9207\n",
      "  Running command git clone --filter=blob:none --quiet https://github.com/pyg-team/pytorch_geometric.git /tmp/pip-req-build-kd5w9207\n",
      "  Resolved https://github.com/pyg-team/pytorch_geometric.git to commit 61c47ee404f8e26b3a1cd0db56448b6254920d0e\n",
      "  Installing build dependencies ... \u001b[?25ldone\n",
      "\u001b[?25h  Getting requirements to build wheel ... \u001b[?25ldone\n",
      "\u001b[?25h  Preparing metadata (pyproject.toml) ... \u001b[?25ldone\n",
      "\u001b[?25hRequirement already satisfied: aiohttp in /home/duncanbrady/honours24/codebase/ST_Honours_2024/.DGL_LinkPred/lib/python3.10/site-packages (from torch-geometric==2.6.0) (3.9.5)\n",
      "Requirement already satisfied: scikit-learn in /home/duncanbrady/honours24/codebase/ST_Honours_2024/.DGL_LinkPred/lib/python3.10/site-packages (from torch-geometric==2.6.0) (1.4.2)\n",
      "Requirement already satisfied: psutil>=5.8.0 in /home/duncanbrady/honours24/codebase/ST_Honours_2024/.DGL_LinkPred/lib/python3.10/site-packages (from torch-geometric==2.6.0) (5.9.8)\n",
      "Requirement already satisfied: scipy in /home/duncanbrady/honours24/codebase/ST_Honours_2024/.DGL_LinkPred/lib/python3.10/site-packages (from torch-geometric==2.6.0) (1.13.0)\n",
      "Requirement already satisfied: numpy in /home/duncanbrady/honours24/codebase/ST_Honours_2024/.DGL_LinkPred/lib/python3.10/site-packages (from torch-geometric==2.6.0) (1.26.4)\n",
      "Requirement already satisfied: jinja2 in /home/duncanbrady/honours24/codebase/ST_Honours_2024/.DGL_LinkPred/lib/python3.10/site-packages (from torch-geometric==2.6.0) (3.1.4)\n",
      "Requirement already satisfied: tqdm in /home/duncanbrady/honours24/codebase/ST_Honours_2024/.DGL_LinkPred/lib/python3.10/site-packages (from torch-geometric==2.6.0) (4.66.4)\n",
      "Requirement already satisfied: pyparsing in /home/duncanbrady/honours24/codebase/ST_Honours_2024/.DGL_LinkPred/lib/python3.10/site-packages (from torch-geometric==2.6.0) (3.1.2)\n",
      "Requirement already satisfied: requests in /home/duncanbrady/honours24/codebase/ST_Honours_2024/.DGL_LinkPred/lib/python3.10/site-packages (from torch-geometric==2.6.0) (2.31.0)\n",
      "Requirement already satisfied: fsspec in /home/duncanbrady/honours24/codebase/ST_Honours_2024/.DGL_LinkPred/lib/python3.10/site-packages (from torch-geometric==2.6.0) (2024.3.1)\n",
      "Requirement already satisfied: attrs>=17.3.0 in /home/duncanbrady/honours24/codebase/ST_Honours_2024/.DGL_LinkPred/lib/python3.10/site-packages (from aiohttp->torch-geometric==2.6.0) (23.2.0)\n",
      "Requirement already satisfied: aiosignal>=1.1.2 in /home/duncanbrady/honours24/codebase/ST_Honours_2024/.DGL_LinkPred/lib/python3.10/site-packages (from aiohttp->torch-geometric==2.6.0) (1.3.1)\n",
      "Requirement already satisfied: yarl<2.0,>=1.0 in /home/duncanbrady/honours24/codebase/ST_Honours_2024/.DGL_LinkPred/lib/python3.10/site-packages (from aiohttp->torch-geometric==2.6.0) (1.9.4)\n",
      "Requirement already satisfied: async-timeout<5.0,>=4.0 in /home/duncanbrady/honours24/codebase/ST_Honours_2024/.DGL_LinkPred/lib/python3.10/site-packages (from aiohttp->torch-geometric==2.6.0) (4.0.3)\n",
      "Requirement already satisfied: frozenlist>=1.1.1 in /home/duncanbrady/honours24/codebase/ST_Honours_2024/.DGL_LinkPred/lib/python3.10/site-packages (from aiohttp->torch-geometric==2.6.0) (1.4.1)\n",
      "Requirement already satisfied: multidict<7.0,>=4.5 in /home/duncanbrady/honours24/codebase/ST_Honours_2024/.DGL_LinkPred/lib/python3.10/site-packages (from aiohttp->torch-geometric==2.6.0) (6.0.5)\n",
      "Requirement already satisfied: MarkupSafe>=2.0 in /home/duncanbrady/honours24/codebase/ST_Honours_2024/.DGL_LinkPred/lib/python3.10/site-packages (from jinja2->torch-geometric==2.6.0) (2.1.5)\n",
      "Requirement already satisfied: idna<4,>=2.5 in /home/duncanbrady/honours24/codebase/ST_Honours_2024/.DGL_LinkPred/lib/python3.10/site-packages (from requests->torch-geometric==2.6.0) (3.7)\n",
      "Requirement already satisfied: certifi>=2017.4.17 in /home/duncanbrady/honours24/codebase/ST_Honours_2024/.DGL_LinkPred/lib/python3.10/site-packages (from requests->torch-geometric==2.6.0) (2024.2.2)\n",
      "Requirement already satisfied: urllib3<3,>=1.21.1 in /home/duncanbrady/honours24/codebase/ST_Honours_2024/.DGL_LinkPred/lib/python3.10/site-packages (from requests->torch-geometric==2.6.0) (2.2.1)\n",
      "Requirement already satisfied: charset-normalizer<4,>=2 in /home/duncanbrady/honours24/codebase/ST_Honours_2024/.DGL_LinkPred/lib/python3.10/site-packages (from requests->torch-geometric==2.6.0) (3.3.2)\n",
      "Requirement already satisfied: threadpoolctl>=2.0.0 in /home/duncanbrady/honours24/codebase/ST_Honours_2024/.DGL_LinkPred/lib/python3.10/site-packages (from scikit-learn->torch-geometric==2.6.0) (3.5.0)\n",
      "Requirement already satisfied: joblib>=1.2.0 in /home/duncanbrady/honours24/codebase/ST_Honours_2024/.DGL_LinkPred/lib/python3.10/site-packages (from scikit-learn->torch-geometric==2.6.0) (1.4.2)\n"
     ]
    }
   ],
   "source": [
    "# Install required packages.\n",
    "import os\n",
    "os.environ['TORCH'] = torch.__version__\n",
    "\n",
    "!pip install torch-scatter -f https://data.pyg.org/whl/torch-${TORCH}.html\n",
    "!pip install torch-sparse -f https://data.pyg.org/whl/torch-${TORCH}.html\n",
    "!pip install pyg-lib -f https://data.pyg.org/whl/nightly/torch-${TORCH}.html\n",
    "!pip install git+https://github.com/pyg-team/pytorch_geometric.git"
   ]
  },
  {
   "cell_type": "code",
   "execution_count": 5,
   "metadata": {},
   "outputs": [
    {
     "name": "stderr",
     "output_type": "stream",
     "text": [
      "Using existing file ml-latest-small.zip\n",
      "Extracting ./ml-latest-small.zip\n"
     ]
    }
   ],
   "source": [
    "from torch_geometric.data import download_url, extract_zip\n",
    "\n",
    "url = 'https://files.grouplens.org/datasets/movielens/ml-latest-small.zip'\n",
    "extract_zip(download_url(url, '.'), '.')\n",
    "\n",
    "movies_path = './ml-latest-small/movies.csv'\n",
    "ratings_path = './ml-latest-small/ratings.csv'"
   ]
  },
  {
   "cell_type": "code",
   "execution_count": 7,
   "metadata": {},
   "outputs": [
    {
     "name": "stdout",
     "output_type": "stream",
     "text": [
      "Movies.csv:\n",
      "====================\n",
      "   movieId                                       genres\n",
      "0        1  Adventure|Animation|Children|Comedy|Fantasy\n",
      "1        2                   Adventure|Children|Fantasy\n",
      "2        3                               Comedy|Romance\n",
      "3        4                         Comedy|Drama|Romance\n",
      "4        5                                       Comedy\n",
      "\n",
      "Ratings.csv:\n",
      "====================\n",
      "   userId  movieId  rating\n",
      "0       1        1     4.0\n",
      "1       1        3     4.0\n",
      "2       1        6     4.0\n",
      "3       1       47     5.0\n",
      "4       1       50     5.0\n"
     ]
    }
   ],
   "source": [
    "import pandas as pd\n",
    "\n",
    "print(\"Movies.csv:\\n====================\")\n",
    "print(pd.read_csv(movies_path)[[\"movieId\", \"genres\"]].head())\n",
    "print()\n",
    "print('Ratings.csv:\\n====================')\n",
    "print(pd.read_csv(ratings_path)[[\"userId\", \"movieId\", \"rating\"]].head())"
   ]
  },
  {
   "cell_type": "code",
   "execution_count": 8,
   "metadata": {},
   "outputs": [
    {
     "name": "stdout",
     "output_type": "stream",
     "text": [
      "         Action  Adventure  Comedy  Drama\n",
      "movieId                                  \n",
      "1             0          1       1      0\n",
      "2             0          1       0      0\n",
      "3             0          0       1      0\n",
      "4             0          0       1      1\n",
      "5             0          0       1      0\n"
     ]
    }
   ],
   "source": [
    "# Load the entire movie data frame into memory\n",
    "movies_df = pd.read_csv(movies_path,index_col='movieId')\n",
    "\n",
    "#split the genres and convert into indicator variables\n",
    "genres = movies_df['genres'].str.get_dummies('|')\n",
    "print(genres[['Action', 'Adventure', 'Comedy', 'Drama']].head())\n",
    "\n",
    "# User genres as movie input features\n",
    "movie_feat = torch.from_numpy(genres.values).to(torch.float)\n",
    "assert movie_feat.size() == (9742, 20)"
   ]
  },
  {
   "cell_type": "code",
   "execution_count": null,
   "metadata": {},
   "outputs": [],
   "source": []
  }
 ],
 "metadata": {
  "kernelspec": {
   "display_name": ".DGL_LinkPred",
   "language": "python",
   "name": "python3"
  },
  "language_info": {
   "codemirror_mode": {
    "name": "ipython",
    "version": 3
   },
   "file_extension": ".py",
   "mimetype": "text/x-python",
   "name": "python",
   "nbconvert_exporter": "python",
   "pygments_lexer": "ipython3",
   "version": "3.10.12"
  }
 },
 "nbformat": 4,
 "nbformat_minor": 2
}
