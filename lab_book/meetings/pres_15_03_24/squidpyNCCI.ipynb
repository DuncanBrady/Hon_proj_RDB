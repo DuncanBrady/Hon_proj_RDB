{
 "cells": [
  {
   "cell_type": "markdown",
   "metadata": {},
   "source": [
    "# Spatial Transcriptomic Techniques and Technology\n",
    "\n",
    "Spatial Transcriptomic Technology can be catergorised by the technique used to analyse the tissue. There are two techniques that are utilised to obtain spatially resolved transcriptomic data\n",
    "\n",
    "  - In-situ hybridisation\n",
    "  - In-situ Sequencing\n",
    "\n",
    "In addition to these two main techniques some additional data has been developed using Imaging Mass Cytometry. However this is not an area I have explored.\n",
    "\n",
    "## ST software tools\n",
    "\n",
    "There exists numerous platforms/packages that enable the analysis of ST data, with some of these offereing interactive elements. My Focus has been on python packages primarily exploring Squidpy, scanpy and Stlearn. Shifting now to explore the Alignment of Spatial data using STAlign. \n",
    "\n",
    "A key component of most python packages is the use of AnnData to store ST data in an object. Thus in order to fully engage with other tools it is crucial to have an understanding of Anndata and how the data structure operates.\n",
    "\n",
    "Capabilities of Software that are been currently explored.\n",
    "  - scanpy\n",
    "    - clustering\n",
    "    - Visualisation\n",
    "  - Squidpy\n",
    "    - creates graph representations of ST data\n",
    "    - Neighbourhood enrichment analysis\n",
    "    - Ligand Receptor Analysis\n",
    "    - Co-occurrence scores\n",
    "  - stLearn\n",
    "    - Normalisation Differences\n",
    "    - clustering\n",
    "    - Ligand-Receptor analysis\n",
    "    - Cell-interaction\n",
    "  - STalign\n",
    "    - alignment of 10x visium and Xenium data to obtain a combination of multi-cell spot and single cell ST data."
   ]
  },
  {
   "cell_type": "markdown",
   "metadata": {},
   "source": [
    "## ST databases"
   ]
  },
  {
   "cell_type": "markdown",
   "metadata": {},
   "source": [
    "From my search I have found three databases/repos\n",
    " - StomicsDB\n",
    " - SORC\n",
    " - CROST\n",
    "\n",
    " I have explore the dataset primarily from StomicsDB, which is aims to cover all examples of ST data production and analysis.\n",
    " SORC is a cancer specific resource and acts more as complete analysis tool.\n"
   ]
  },
  {
   "cell_type": "markdown",
   "metadata": {},
   "source": [
    "## Current CCI tools and Literature\n",
    "\n",
    "Within my search for CCI analysis using spatial transcriptomic data, there has been a range of approaches and work. However most of these methods can be classified into one of the following groups \n",
    "\n",
    "  - Statistical Methods\n",
    "  - Unsupervised Learnig\n",
    "  - Supervised learning\n",
    "\n",
    "Majority of these approaches utilise ligand receptor analysis to perform either correlation analysis or other statistical methods.\n",
    "\n",
    "Below is a table of tools I have found and a brief outline of each, this was aggregated from mutliple papers with similar tables and adjusted to only include those that handle CCI.\n",
    "\n",
    "| Package Name | Language | Method Group | Description | publish date |  github  | \n",
    "| ------------ | -------- | ------------ | ----------- | ------------ | -------- |\n",
    "| Graph Convolutional Network For Genes(GCNG) | python | supervised Learning | Utilises a simple GCN network structure to both identify known and predict novel interactions | 2020 | https://github.com/xiaoyeye/GCNG |\n",
    "| stLearn | python | statistical | Creates and interaction score using combination of L-R, clustering and cell diversity | 2020 | https://github.com/BiomedicalMachineLearning/stLearn |\n",
    "| squidPy | python | statistical | Is a re-implementation of the CellPhoneDB L-R permutation analysis | 2021 | https://github.com/scverse/squidpy |\n",
    "| RECCIPE | python | Regression Analysis | models the dependence of gene expression changes across spots, accounting for heterogenity | 2024 | Not publically available yet |\n",
    "| CellPhoneDB | python | statistical | Uses a repo of known LR interactions to predict(NonSpatial) | 2020 | https://github.com/Teichlab/cellphonedb |\n",
    "| ATHENA | python | unsupervised Learning | Scores cell interaction, clustering to quantify heterogeneity of tumors | 2022 | https://github.com/AI4SCR/ATHENA |\n",
    "| NicheNet | R | statistical | Utilises a similar approach to pagerank through scoring LR interactions, currently requires human or mouse data | 2020 | https://github.com/saeyslab/nichenetr |\n",
    "\n"
   ]
  },
  {
   "cell_type": "markdown",
   "metadata": {},
   "source": [
    "\n",
    "## Gaps in research\n",
    "\n",
    "Specific applications of Graph Networks within ST data in the context of CCI are somewhat limited with the following being the closest I have found\n",
    " \n",
    " - GCNG \n",
    " - NicheDE\n",
    "\n",
    "While I have definitely not exhausted all research and covered all papers, it appears to me that a current gap within the area of CCI analysis is in regards to the use of Graph Auto-encoders or Variational Graph auto encoders. There appears to be some evidence that autoencoders are of use within network analysis beyond cell-cell interaction\n",
    " - \"Predicting Protein-Protein Interactions Using Sequence and Network Information via Variational Graph Autoencoder\", 2023\n",
    " - \"Variational Disentangled Graph Auto-Encoders for Link Prediction\", 2023\n",
    " - \"A Graph Feature Auto-Encoder for the Prediction of Unobserved Node Features on Biological Networks\" 2020\n",
    " \n"
   ]
  }
 ],
 "metadata": {
  "kernelspec": {
   "display_name": ".venv",
   "language": "python",
   "name": "python3"
  },
  "language_info": {
   "name": "python",
   "version": "3.10.12"
  }
 },
 "nbformat": 4,
 "nbformat_minor": 2
}
