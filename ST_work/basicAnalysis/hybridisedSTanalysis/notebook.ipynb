{
 "cells": [
  {
   "cell_type": "code",
   "execution_count": null,
   "metadata": {},
   "outputs": [],
   "source": []
  },
  {
   "cell_type": "markdown",
   "metadata": {},
   "source": [
    "# Spatial Transcriptomics pipeline\n",
    "\n",
    "The basic outline of what I should do for this pipeline to familiarise myself with ST data from hybridised technologies\n",
    "\n",
    "1. Download the data\n",
    "2. Load the data in to python object/dataframe for analysis\n",
    "3. perform analysis and visualisation of the data\n",
    "\n",
    "Things that I should look into how to do with ST data\n",
    "\n",
    "1. Normalise the data\n",
    "2. Align the data\n",
    "3. Deconvolution \n",
    "4. Cell type annotation\n",
    "5. Cluster Analysis\n",
    "\n"
   ]
  }
 ],
 "metadata": {
  "language_info": {
   "name": "python"
  }
 },
 "nbformat": 4,
 "nbformat_minor": 2
}
