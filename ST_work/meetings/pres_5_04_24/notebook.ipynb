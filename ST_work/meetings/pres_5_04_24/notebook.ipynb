{
 "cells": [
  {
   "cell_type": "markdown",
   "metadata": {},
   "source": [
    "## Current Work\n",
    "- Literature Review\n",
    "- Examining how Spatial data can be used as graph inputs\n",
    "- Test existing methods such as GCNG to understand their approach.\n",
    "- Exploring potential outputs for the graph\n",
    "\n",
    "## Updates\n",
    "- Graph based aproaches that have been demonstrated are\n",
    "    - GCNG\n",
    "        - Utilises two matrices, one for gene expression within cells and one for cell location.\n",
    "            - attempted a one-hot encoding of cell type that demonstrated worse results\n",
    "        - Only uses SeqFish data\n",
    "        - known ligand-receptor interaction used as 'ground truth'\n",
    "    - NCEM\n",
    "        - Focuses on cell types and 'niche'\n",
    "        - Designed to be used with subcellular resolution, MERFISH, seqFISH\n",
    "        - Focuses nodes\n",
    "        - NCEM does have an alternative that utilises the LR as inputs rather than cell type.\n",
    "            - This seems to demonstrate higher levels of predictive ability.\n",
    "    - NicheDE\n",
    "        - Does not direclty examine cell-interaction but rather identifies differential expression due to environment\n",
    "- Graph encodings of the spatial data reasonably treat \n",
    "\n",
    "## Blocks\n",
    "- Using GCNG has proved difficult due to some dependency issues\n",
    "- Understanding how to model cell-communication\n",
    "    - Is there a way to encode interactions through links.\n",
    "    - This seems intuitive however I cant seem to find much work on it.\n",
    "\n",
    "## Questions\n",
    "- scope of the literature review\n",
    "- Is there a cell communication model that I should be focusing"
   ]
  }
 ],
 "metadata": {
  "kernelspec": {
   "display_name": ".venv",
   "language": "python",
   "name": "python3"
  },
  "language_info": {
   "name": "python",
   "version": "3.10.12"
  }
 },
 "nbformat": 4,
 "nbformat_minor": 2
}
