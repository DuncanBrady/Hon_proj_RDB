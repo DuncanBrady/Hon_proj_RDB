{
 "cells": [
  {
   "cell_type": "markdown",
   "metadata": {},
   "source": [
    "# AnnData(annotated data) tutorial"
   ]
  },
  {
   "cell_type": "markdown",
   "metadata": {},
   "source": [
    "## Introduction"
   ]
  },
  {
   "cell_type": "markdown",
   "metadata": {},
   "source": [
    "Anndata is a python package that aims to effectively aid in handling data that requires dealing with sparsity, lack of structure and both observation and feature level metadata. It is specifically designed for multi-demensional matrix data in which each dimension acts as a feature or variable.\n",
    "\n",
    "AnnData indexes both the rows and columns of the matrix allowing for storage or metadata for both rows and columns. This metadata can include column and row names among other things.\n",
    "\n"
   ]
  },
  {
   "cell_type": "markdown",
   "metadata": {},
   "source": [
    "## Getting Started with Anndata"
   ]
  },
  {
   "cell_type": "markdown",
   "metadata": {},
   "source": [
    "The following code will demonstrate how an annData object can be initialised and explain with examples the basic structure of the object"
   ]
  },
  {
   "cell_type": "code",
   "execution_count": 2,
   "metadata": {},
   "outputs": [],
   "source": [
    "# Python Imports for basic annData usage\n",
    "import numpy as np\n",
    "import pandas as pd\n",
    "import anndata as ad\n",
    "from scipy.sparse import csr_matrix"
   ]
  },
  {
   "cell_type": "code",
   "execution_count": 16,
   "metadata": {},
   "outputs": [
    {
     "data": {
      "text/plain": [
       "AnnData object with n_obs × n_vars = 100 × 2000"
      ]
     },
     "execution_count": 16,
     "metadata": {},
     "output_type": "execute_result"
    }
   ],
   "source": [
    "''' \n",
    "AnnData stores matrix objects, so the easiest way to create an AnnData object \n",
    "is to create a matrix object and then create an AnnData object from that matrix object.\n",
    "'''\n",
    "\n",
    "counts = csr_matrix(np.random.poisson(1,size=(100,2000)), dtype=np.float32)\n",
    "adata = ad.AnnData(counts)\n",
    "adata\n"
   ]
  },
  {
   "cell_type": "markdown",
   "metadata": {},
   "source": [
    "*Note that annData does support reading of data from files however that will be covered later*\n",
    "\n",
    "Now that the anndata object has been initialised, it is possible to get a summary of the data stored through the function *adata.X*."
   ]
  },
  {
   "cell_type": "code",
   "execution_count": 17,
   "metadata": {},
   "outputs": [
    {
     "data": {
      "text/plain": [
       "<100x2000 sparse matrix of type '<class 'numpy.float32'>'\n",
       "\twith 126302 stored elements in Compressed Sparse Row format>"
      ]
     },
     "execution_count": 17,
     "metadata": {},
     "output_type": "execute_result"
    }
   ],
   "source": [
    "#Print summary statistics of adata object\n",
    "adata.X"
   ]
  },
  {
   "cell_type": "markdown",
   "metadata": {},
   "source": [
    "An important component of the Anndata object is the ability to store metadata regarding rows and columns. One approach is simply to name to obs and vars with respect to their index in the matrix, such that the first row is 'Obs_1'. The number of obs and vars can be accessed using `adata.n_obs` or `adata.n_vars`"
   ]
  },
  {
   "cell_type": "code",
   "execution_count": 18,
   "metadata": {},
   "outputs": [
    {
     "name": "stdout",
     "output_type": "stream",
     "text": [
      "Index(['Cell_0', 'Cell_1', 'Cell_2', 'Cell_3', 'Cell_4', 'Cell_5', 'Cell_6',\n",
      "       'Cell_7', 'Cell_8', 'Cell_9'],\n",
      "      dtype='object')\n",
      "Index(['Gene_0', 'Gene_1', 'Gene_2', 'Gene_3', 'Gene_4', 'Gene_5', 'Gene_6',\n",
      "       'Gene_7', 'Gene_8', 'Gene_9'],\n",
      "      dtype='object')\n",
      "AnnData object with n_obs × n_vars = 100 × 2000\n"
     ]
    }
   ],
   "source": [
    "# Initialize observation names\n",
    "adata.obs_names = ['Cell_' + str(i) for i in range(adata.n_obs)]\n",
    "\n",
    "# Initialize variable names\n",
    "adata.var_names = ['Gene_' + str(i) for i in range(adata.n_vars )]\n",
    "print(adata.obs_names[:10])\n",
    "print(adata.var_names[:10])\n",
    "print(adata)\n"
   ]
  },
  {
   "cell_type": "markdown",
   "metadata": {},
   "source": [
    "Once metadata has been added to the anndata it becomes very useful, not only for adding more context to the data but also for increasing the ease of working with and understanding your data. For example the anndata object can be subsetted using the added metadata rather than index positions. "
   ]
  },
  {
   "cell_type": "code",
   "execution_count": 19,
   "metadata": {},
   "outputs": [
    {
     "name": "stdout",
     "output_type": "stream",
     "text": [
      "View of AnnData object with n_obs × n_vars = 3 × 2\n"
     ]
    }
   ],
   "source": [
    "subsetData = adata[[\"Cell_1\", \"Cell_2\", \"Cell_3\"], [\"Gene_1\", \"Gene_3\"]]\n",
    "print(subsetData)"
   ]
  },
  {
   "cell_type": "markdown",
   "metadata": {},
   "source": [
    "Subsetting the anndata object does not require a symmetric subset of the observation and variable names. And In cases such as gene expression analysis it can be very useful to reduce the size of working data with relative ease.\n",
    "\n",
    "Subsetting can also be performed using equality statements based on the value of obs, cannot use less than or equal too statements."
   ]
  },
  {
   "cell_type": "code",
   "execution_count": 37,
   "metadata": {},
   "outputs": [
    {
     "data": {
      "text/plain": [
       "View of AnnData object with n_obs × n_vars = 25 × 2000\n",
       "    obs: 'group'"
      ]
     },
     "execution_count": 37,
     "metadata": {},
     "output_type": "execute_result"
    }
   ],
   "source": [
    "ct = np.random.choice([\"A\", \"B\", \"C\"], size=(adata.n_obs,))\n",
    "adata.obs['group'] = pd.Categorical(ct)\n",
    "bdata = adata[adata.obs['group'] == \"A\"]\n",
    "bdata\n"
   ]
  },
  {
   "cell_type": "markdown",
   "metadata": {},
   "source": [
    "## Observation and Variable level matrices"
   ]
  },
  {
   "cell_type": "markdown",
   "metadata": {},
   "source": [
    "It is possible with anndata to have dimensional metadata, For example it is possible to include UMAP encodings within the annData obs. Storing such data is done so within `.obsm/.varm` for observation metadata and variable metadata respectively. For both `.varm` and `.obsm` matrices at least the lenght must be the same as `n_var` and `n_obs`.\n",
    "\n",
    "Below is an example of how UMAP embeddings can be stored along with some gene related data"
   ]
  },
  {
   "cell_type": "code",
   "execution_count": 38,
   "metadata": {},
   "outputs": [],
   "source": [
    "adata.obsm['X_umap'] = np.random.normal(0,1, size=(adata.n_obs, 2))\n",
    "adata.varm['gene_data'] = np.random.normal(0,1, size=(adata.n_vars, 6))"
   ]
  },
  {
   "cell_type": "code",
   "execution_count": null,
   "metadata": {},
   "outputs": [],
   "source": []
  },
  {
   "cell_type": "code",
   "execution_count": null,
   "metadata": {},
   "outputs": [],
   "source": []
  }
 ],
 "metadata": {
  "kernelspec": {
   "display_name": "squidpy",
   "language": "python",
   "name": "python3"
  },
  "language_info": {
   "codemirror_mode": {
    "name": "ipython",
    "version": 3
   },
   "file_extension": ".py",
   "mimetype": "text/x-python",
   "name": "python",
   "nbconvert_exporter": "python",
   "pygments_lexer": "ipython3",
   "version": "3.11.5"
  }
 },
 "nbformat": 4,
 "nbformat_minor": 2
}
